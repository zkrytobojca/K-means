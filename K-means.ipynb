{
 "cells": [
  {
   "cell_type": "code",
   "execution_count": 1,
   "id": "cd6f3e9a",
   "metadata": {},
   "outputs": [],
   "source": [
    "# importing necessary libraries\n",
    "import pandas as pd\n",
    "import numpy as np\n",
    "import copy\n",
    "import random"
   ]
  },
  {
   "cell_type": "markdown",
   "id": "9985e3ec",
   "metadata": {},
   "source": [
    "# -------------------- PARAMETERS --------------------"
   ]
  },
  {
   "cell_type": "code",
   "execution_count": 2,
   "id": "c95e8617",
   "metadata": {},
   "outputs": [],
   "source": [
    "# name of a csv data file \n",
    "filename = 'income'"
   ]
  },
  {
   "cell_type": "code",
   "execution_count": 3,
   "id": "44f91543",
   "metadata": {},
   "outputs": [],
   "source": [
    "df = pd.read_csv('datasets\\\\' + filename + '.csv', sep=';')\n",
    "df_original = df.copy(deep=True)"
   ]
  },
  {
   "cell_type": "code",
   "execution_count": 4,
   "id": "41d5cef9",
   "metadata": {},
   "outputs": [],
   "source": [
    "# if class is provided with the data\n",
    "provided_class = True"
   ]
  },
  {
   "cell_type": "code",
   "execution_count": 5,
   "id": "265269f7",
   "metadata": {},
   "outputs": [],
   "source": [
    "# determining the number of clusters (k) into which we divide the set\n",
    "k = 3"
   ]
  },
  {
   "cell_type": "code",
   "execution_count": 6,
   "id": "b0e4eabb",
   "metadata": {},
   "outputs": [],
   "source": [
    "# the number of iterations after which the algorithm ends (if not earlier)\n",
    "iteration_limit = 50"
   ]
  },
  {
   "cell_type": "code",
   "execution_count": 7,
   "id": "278b5ac5",
   "metadata": {},
   "outputs": [],
   "source": [
    "# determination of the distance metric: Euclidean | Manhattan | Czebyshev | Mahalanobis\n",
    "distance_metric = \"Euclidean\""
   ]
  },
  {
   "cell_type": "markdown",
   "id": "b105ca0e",
   "metadata": {},
   "source": [
    "# -------------------- DATA PREPARATION --------------------"
   ]
  },
  {
   "cell_type": "code",
   "execution_count": 8,
   "id": "33074861",
   "metadata": {},
   "outputs": [
    {
     "data": {
      "text/plain": [
       "Index(['Assets', 'Income'], dtype='object')"
      ]
     },
     "execution_count": 8,
     "metadata": {},
     "output_type": "execute_result"
    }
   ],
   "source": [
    "# retrieving attribute column names\n",
    "columns = df.columns\n",
    "columns = columns[:-1]\n",
    "columns"
   ]
  },
  {
   "cell_type": "code",
   "execution_count": 9,
   "id": "12f10a52",
   "metadata": {},
   "outputs": [],
   "source": [
    "# determination of the decision class\n",
    "if provided_class == True:\n",
    "    decision_class = df.columns[-1]"
   ]
  },
  {
   "cell_type": "code",
   "execution_count": 10,
   "id": "3b273669",
   "metadata": {},
   "outputs": [
    {
     "data": {
      "text/html": [
       "<div>\n",
       "<style scoped>\n",
       "    .dataframe tbody tr th:only-of-type {\n",
       "        vertical-align: middle;\n",
       "    }\n",
       "\n",
       "    .dataframe tbody tr th {\n",
       "        vertical-align: top;\n",
       "    }\n",
       "\n",
       "    .dataframe thead th {\n",
       "        text-align: right;\n",
       "    }\n",
       "</style>\n",
       "<table border=\"1\" class=\"dataframe\">\n",
       "  <thead>\n",
       "    <tr style=\"text-align: right;\">\n",
       "      <th></th>\n",
       "      <th>Assets</th>\n",
       "      <th>Income</th>\n",
       "      <th>State</th>\n",
       "    </tr>\n",
       "  </thead>\n",
       "  <tbody>\n",
       "    <tr>\n",
       "      <th>0</th>\n",
       "      <td>2.8</td>\n",
       "      <td>3.2</td>\n",
       "      <td>0</td>\n",
       "    </tr>\n",
       "    <tr>\n",
       "      <th>1</th>\n",
       "      <td>3.4</td>\n",
       "      <td>6.4</td>\n",
       "      <td>1</td>\n",
       "    </tr>\n",
       "    <tr>\n",
       "      <th>2</th>\n",
       "      <td>2.2</td>\n",
       "      <td>3.3</td>\n",
       "      <td>0</td>\n",
       "    </tr>\n",
       "    <tr>\n",
       "      <th>3</th>\n",
       "      <td>3.2</td>\n",
       "      <td>3.0</td>\n",
       "      <td>0</td>\n",
       "    </tr>\n",
       "    <tr>\n",
       "      <th>4</th>\n",
       "      <td>3.0</td>\n",
       "      <td>3.2</td>\n",
       "      <td>0</td>\n",
       "    </tr>\n",
       "    <tr>\n",
       "      <th>...</th>\n",
       "      <td>...</td>\n",
       "      <td>...</td>\n",
       "      <td>...</td>\n",
       "    </tr>\n",
       "    <tr>\n",
       "      <th>127</th>\n",
       "      <td>2.8</td>\n",
       "      <td>2.7</td>\n",
       "      <td>2</td>\n",
       "    </tr>\n",
       "    <tr>\n",
       "      <th>128</th>\n",
       "      <td>3.0</td>\n",
       "      <td>2.8</td>\n",
       "      <td>0</td>\n",
       "    </tr>\n",
       "    <tr>\n",
       "      <th>129</th>\n",
       "      <td>3.3</td>\n",
       "      <td>1.8</td>\n",
       "      <td>2</td>\n",
       "    </tr>\n",
       "    <tr>\n",
       "      <th>130</th>\n",
       "      <td>3.7</td>\n",
       "      <td>6.3</td>\n",
       "      <td>1</td>\n",
       "    </tr>\n",
       "    <tr>\n",
       "      <th>131</th>\n",
       "      <td>2.3</td>\n",
       "      <td>4.5</td>\n",
       "      <td>0</td>\n",
       "    </tr>\n",
       "  </tbody>\n",
       "</table>\n",
       "<p>132 rows × 3 columns</p>\n",
       "</div>"
      ],
      "text/plain": [
       "     Assets  Income  State\n",
       "0       2.8     3.2      0\n",
       "1       3.4     6.4      1\n",
       "2       2.2     3.3      0\n",
       "3       3.2     3.0      0\n",
       "4       3.0     3.2      0\n",
       "..      ...     ...    ...\n",
       "127     2.8     2.7      2\n",
       "128     3.0     2.8      0\n",
       "129     3.3     1.8      2\n",
       "130     3.7     6.3      1\n",
       "131     2.3     4.5      0\n",
       "\n",
       "[132 rows x 3 columns]"
      ]
     },
     "execution_count": 10,
     "metadata": {},
     "output_type": "execute_result"
    }
   ],
   "source": [
    "df[decision_class] = pd.factorize(df[decision_class])[0]\n",
    "df"
   ]
  },
  {
   "cell_type": "code",
   "execution_count": 11,
   "id": "6dced699",
   "metadata": {},
   "outputs": [
    {
     "data": {
      "image/png": "[encoded data removed]",
      "text/plain": [
       "<Figure size 432x288 with 2 Axes>"
      ]
     },
     "metadata": {
      "needs_background": "light"
     },
     "output_type": "display_data"
    }
   ],
   "source": [
    "# initial data plot with classes\n",
    "if provided_class == True:\n",
    "    margin = 1\n",
    "    a_limit = [df[columns[0]].min() - margin, df[columns[0]].max() + margin]\n",
    "    b_limit = [df[columns[1]].min() - margin, df[columns[1]].max() + margin]\n",
    "    if len(columns) == 2:\n",
    "        if df.dtypes[-1] != object:\n",
    "            df.plot.scatter(x=columns[0], y=columns[1], c=df.columns[-1], colormap='tab20b', xlim=a_limit, ylim=b_limit)\n",
    "        else:\n",
    "            print(\"Plot not available - Replace the decision class with a number\")\n",
    "    else:\n",
    "        print(\"Plot not available - Objects have more than 2 attributes\")"
   ]
  },
  {
   "cell_type": "code",
   "execution_count": 12,
   "id": "0742aa31",
   "metadata": {},
   "outputs": [],
   "source": [
    "# drop of class information\n",
    "if provided_class == True:\n",
    "    df = df.drop([decision_class], axis=1)"
   ]
  },
  {
   "cell_type": "code",
   "execution_count": 13,
   "id": "9f3aaa72",
   "metadata": {},
   "outputs": [],
   "source": [
    "# adding a column with predicted class\n",
    "df[\"centroid\"] = -1"
   ]
  },
  {
   "cell_type": "code",
   "execution_count": 14,
   "id": "6c602244",
   "metadata": {},
   "outputs": [
    {
     "data": {
      "image/png": "[encoded data removed]",
      "text/plain": [
       "<Figure size 432x288 with 1 Axes>"
      ]
     },
     "metadata": {
      "needs_background": "light"
     },
     "output_type": "display_data"
    }
   ],
   "source": [
    "# initial data plot without classes\n",
    "margin = 1\n",
    "a_limit = [df[columns[0]].min() - margin, df[columns[0]].max() + margin]\n",
    "b_limit = [df[columns[1]].min() - margin, df[columns[1]].max() + margin]\n",
    "if len(columns) == 2:\n",
    "    df.plot.scatter(x=columns[0], y=columns[1], xlim=a_limit, ylim=b_limit)\n",
    "else:\n",
    "    print(\"Plot not available - Objects have more than 2 attributes\")"
   ]
  },
  {
   "cell_type": "markdown",
   "id": "5d576ac3",
   "metadata": {},
   "source": [
    "# -------------------- FUNCTIONS --------------------"
   ]
  },
  {
   "cell_type": "markdown",
   "id": "3f84969f",
   "metadata": {},
   "source": [
    "### -------------------- DISTANCE METRICS --------------------"
   ]
  },
  {
   "cell_type": "code",
   "execution_count": 15,
   "id": "3d73f3c4",
   "metadata": {},
   "outputs": [],
   "source": [
    "# Euclidean Metric\n",
    "def __EuclideanMetric(array1, array2):\n",
    "    sum_sq = np.sum(np.square(array1 - array2))\n",
    "    return np.sqrt(sum_sq)"
   ]
  },
  {
   "cell_type": "code",
   "execution_count": 16,
   "id": "1cb5384d",
   "metadata": {},
   "outputs": [],
   "source": [
    "# Manhattan Metric (L1)\n",
    "def __ManhattanMetric(array1, array2):\n",
    "    return np.sum(np.abs(array1 - array2))"
   ]
  },
  {
   "cell_type": "code",
   "execution_count": 17,
   "id": "aa8f7ccf",
   "metadata": {},
   "outputs": [],
   "source": [
    "# Czebyshev Metric (L inf)\n",
    "def __CzebyshevMetric(array1, array2):\n",
    "    return np.max(np.abs(array1 - array2))"
   ]
  },
  {
   "cell_type": "code",
   "execution_count": 18,
   "id": "ef12fcec",
   "metadata": {},
   "outputs": [],
   "source": [
    "# Mahalanobis Metric\n",
    "def __MahalanobisMetric(array1, array2, inv_cov_matrix):\n",
    "    difference = np.array([array1 - array2])\n",
    "    difference_T = difference.T\n",
    "    left = np.dot(difference, inv_cov_matrix)\n",
    "    mahal = np.dot(left, difference_T)\n",
    "    return np.sqrt(mahal[0][0])"
   ]
  },
  {
   "cell_type": "code",
   "execution_count": 19,
   "id": "edda65d6",
   "metadata": {},
   "outputs": [],
   "source": [
    "# calculate the distance between targets\n",
    "def CalculateDistance(metric, p1, p2):\n",
    "    if metric == \"Euclidean\":\n",
    "        return __EuclideanMetric(p1[:-1], p2[:-1])\n",
    "    elif metric == 'Manhattan':\n",
    "        return __ManhattanMetric(p1[:-1], p2[:-1])\n",
    "    elif metric == 'Czebyshev':\n",
    "        return __CzebyshevMetric(p1[:-1], p2[:-1])\n",
    "    elif metric == 'Mahalanobis':\n",
    "        dfWithoutLastCol = df.iloc[:, :-1]\n",
    "        cov_matrix = np.cov(dfWithoutLastCol.values.T)\n",
    "        inv_cov_matrix = np.linalg.inv(cov_matrix)\n",
    "        return __MahalanobisMetric(p1[:-1], p2[:-1], inv_cov_matrix)\n",
    "    return -1"
   ]
  },
  {
   "cell_type": "markdown",
   "id": "2a56d1fa",
   "metadata": {},
   "source": [
    "### -------------------- CENTROIDS --------------------"
   ]
  },
  {
   "cell_type": "code",
   "execution_count": 20,
   "id": "397a103a",
   "metadata": {},
   "outputs": [],
   "source": [
    "# determination of the initial position of the centroid (position of a random object)\n",
    "def CreateCentroid(df):\n",
    "    centroid_position = df.sample(n=1).iloc[0]\n",
    "    return centroid_position"
   ]
  },
  {
   "cell_type": "code",
   "execution_count": 21,
   "id": "4ec5fad1",
   "metadata": {},
   "outputs": [],
   "source": [
    "# creating k initial centroids\n",
    "def CreateCentroidList(df, k):\n",
    "    centroid_list = pd.DataFrame(columns=df.columns)\n",
    "    for centroid in range(k):\n",
    "        centroid_position = CreateCentroid(df)\n",
    "        centroid_position[\"centroid\"] = centroid\n",
    "        centroid_list = centroid_list.append(centroid_position, ignore_index=True)\n",
    "    return centroid_list"
   ]
  },
  {
   "cell_type": "code",
   "execution_count": 22,
   "id": "6653910a",
   "metadata": {},
   "outputs": [],
   "source": [
    "# assign each object to one of the centroids\n",
    "def MatchObjectsWithCentroids(df, centroid_list):\n",
    "    changes = 0\n",
    "    # for each object\n",
    "    for index_object, row_object in df.iterrows():\n",
    "        # minimum distance\n",
    "        min_dist = np.inf\n",
    "        closest_centroid = 0\n",
    "        # for each centroid\n",
    "        for index_centroid, row_centroid in centroid_list.iterrows():\n",
    "            # calculate the distance\n",
    "            current_dist = CalculateDistance(distance_metric, row_object, row_centroid)\n",
    "            # find the shortest distance\n",
    "            if current_dist < min_dist:\n",
    "                min_dist = current_dist\n",
    "                closest_centroid = row_centroid[\"centroid\"]\n",
    "        # assign the object to this centroid\n",
    "        if df.at[index_object, \"centroid\"] != closest_centroid:\n",
    "            df.at[index_object, \"centroid\"] = closest_centroid\n",
    "            changes = changes + 1\n",
    "    return df, changes"
   ]
  },
  {
   "cell_type": "code",
   "execution_count": 23,
   "id": "914f1743",
   "metadata": {},
   "outputs": [],
   "source": [
    "# checking if any of the centroids doesn't have 0 objects assigned\n",
    "def CheckIfAllClassesHaveObject(df, k):\n",
    "    allHaveObject = True\n",
    "    for current_k in range(0, k):\n",
    "        currentHaveObject = current_k in df[\"centroid\"].unique()\n",
    "        if currentHaveObject == False:\n",
    "            allHaveObject = False\n",
    "            break\n",
    "    return allHaveObject"
   ]
  },
  {
   "cell_type": "code",
   "execution_count": 24,
   "id": "7210a61e",
   "metadata": {},
   "outputs": [],
   "source": [
    "# update of the centroid position\n",
    "def UpdateCentroidPosition(df, centroid_list):\n",
    "    # for each centroid\n",
    "    for index_centroid, row_centroid in centroid_list.iterrows():\n",
    "        # for each column\n",
    "        for column in df.columns[:-1]:\n",
    "            # calculate the average and substitute the centroid value\n",
    "            row_centroid[column] = df.loc[df[\"centroid\"] == row_centroid[\"centroid\"]][column].mean()\n",
    "    return centroid_list"
   ]
  },
  {
   "cell_type": "markdown",
   "id": "901b81f2",
   "metadata": {},
   "source": [
    "### -------------------- SILHOUETTE --------------------"
   ]
  },
  {
   "cell_type": "code",
   "execution_count": 25,
   "id": "52406d90",
   "metadata": {},
   "outputs": [],
   "source": [
    "# calculation of the grouping quality measure - Silhouette\n",
    "def GenerateSilhouette(df):\n",
    "    # adding columns for quality determination\n",
    "    df['a(i)'] = -1.0\n",
    "    df['b(i)'] = -1.0\n",
    "    df['s(i)'] = -1.0\n",
    "    \n",
    "    # number of objects in clusters\n",
    "    cluster_counts = df.groupby('centroid')['centroid'].agg(['count'])\n",
    "\n",
    "    # calculation of a(i)\n",
    "    for index_object, row_object in df.iterrows():\n",
    "        current_dist = 0.0\n",
    "        for index_object_2, row_object_2 in df.iterrows():\n",
    "            if row_object['centroid'] == row_object_2['centroid']:\n",
    "                if distance_metric == \"Mahalanobis\":\n",
    "                    current_dist += (1 / (cluster_counts.at[df.at[index_object, 'centroid'], 'count'] - 1)) * CalculateDistance(\"Euclidean\", row_object, row_object_2)\n",
    "                else:\n",
    "                    current_dist += (1 / (cluster_counts.at[df.at[index_object, 'centroid'], 'count'] - 1)) * CalculateDistance(distance_metric, row_object, row_object_2)\n",
    "        df.at[index_object, 'a(i)'] = current_dist\n",
    "    \n",
    "    # calculation of b(i)\n",
    "    for index_object, row_object in df.iterrows():\n",
    "        min_distance = np.inf\n",
    "        for c in range(0, cluster_counts.shape[0]):\n",
    "            current_dist = 0.0\n",
    "            for index_object_2, row_object_2 in df.iterrows():\n",
    "                if row_object['centroid'] != c and c == row_object_2['centroid']:\n",
    "                    if distance_metric == \"Mahalanobis\":\n",
    "                        current_dist += (1 / (cluster_counts.at[c, 'count'])) * CalculateDistance(\"Euclidean\", row_object, row_object_2)\n",
    "                    else:\n",
    "                        current_dist += (1 / (cluster_counts.at[c, 'count'])) * CalculateDistance(distance_metric, row_object, row_object_2)\n",
    "            if row_object['centroid'] != c:\n",
    "                min_distance = np.minimum(min_distance, current_dist)\n",
    "        df.at[index_object, 'b(i)'] = min_distance\n",
    "    \n",
    "    # calculation of s(i)\n",
    "    for index_object, row_object in df.iterrows():\n",
    "        if row_object['a(i)'] < row_object['b(i)']:\n",
    "            df.at[index_object, 's(i)'] = 1 - row_object['a(i)'] / row_object['b(i)']\n",
    "        elif row_object['a(i)'] == row_object['b(i)']:\n",
    "            df.at[index_object, 's(i)'] = 0.0\n",
    "        elif row_object['a(i)'] > row_object['b(i)']:\n",
    "            df.at[index_object, 's(i)'] = row_object['b(i)'] / row_object['a(i)'] - 1\n",
    "    \n",
    "    return df"
   ]
  },
  {
   "cell_type": "markdown",
   "id": "b03b28f1",
   "metadata": {},
   "source": [
    "# -------------------- K-MEANS --------------------"
   ]
  },
  {
   "cell_type": "code",
   "execution_count": 26,
   "id": "4932269b",
   "metadata": {},
   "outputs": [
    {
     "data": {
      "text/html": [
       "<div>\n",
       "<style scoped>\n",
       "    .dataframe tbody tr th:only-of-type {\n",
       "        vertical-align: middle;\n",
       "    }\n",
       "\n",
       "    .dataframe tbody tr th {\n",
       "        vertical-align: top;\n",
       "    }\n",
       "\n",
       "    .dataframe thead th {\n",
       "        text-align: right;\n",
       "    }\n",
       "</style>\n",
       "<table border=\"1\" class=\"dataframe\">\n",
       "  <thead>\n",
       "    <tr style=\"text-align: right;\">\n",
       "      <th></th>\n",
       "      <th>Assets</th>\n",
       "      <th>Income</th>\n",
       "      <th>centroid</th>\n",
       "    </tr>\n",
       "  </thead>\n",
       "  <tbody>\n",
       "    <tr>\n",
       "      <th>0</th>\n",
       "      <td>4.0</td>\n",
       "      <td>6.6</td>\n",
       "      <td>0.0</td>\n",
       "    </tr>\n",
       "    <tr>\n",
       "      <th>1</th>\n",
       "      <td>2.9</td>\n",
       "      <td>6.4</td>\n",
       "      <td>1.0</td>\n",
       "    </tr>\n",
       "    <tr>\n",
       "      <th>2</th>\n",
       "      <td>2.6</td>\n",
       "      <td>3.4</td>\n",
       "      <td>2.0</td>\n",
       "    </tr>\n",
       "  </tbody>\n",
       "</table>\n",
       "</div>"
      ],
      "text/plain": [
       "   Assets  Income  centroid\n",
       "0     4.0     6.6       0.0\n",
       "1     2.9     6.4       1.0\n",
       "2     2.6     3.4       2.0"
      ]
     },
     "execution_count": 26,
     "metadata": {},
     "output_type": "execute_result"
    }
   ],
   "source": [
    "CreateCentroidList(df, k)"
   ]
  },
  {
   "cell_type": "code",
   "execution_count": 27,
   "id": "4dedb3bc",
   "metadata": {},
   "outputs": [],
   "source": [
    "# randomize the values until each centroid will have an object assigned to it\n",
    "centroid_list = CreateCentroidList(df, k)\n",
    "df, changes = MatchObjectsWithCentroids(df, centroid_list)\n",
    "\n",
    "while CheckIfAllClassesHaveObject(df, k) == False:\n",
    "    print(\"Trying...\")\n",
    "    centroid_list = CreateCentroidList(df, k)\n",
    "    df, changes = MatchObjectsWithCentroids(df, centroid_list)"
   ]
  },
  {
   "cell_type": "code",
   "execution_count": 28,
   "id": "f55d9991",
   "metadata": {},
   "outputs": [
    {
     "data": {
      "image/png": "[encoded data removed]",
      "text/plain": [
       "<Figure size 432x288 with 2 Axes>"
      ]
     },
     "metadata": {
      "needs_background": "light"
     },
     "output_type": "display_data"
    }
   ],
   "source": [
    "# plot with objects assigned to centroids\n",
    "if len(columns) == 2:\n",
    "    object_plot = df.plot.scatter(x=columns[0], y=columns[1], c=\"centroid\", colormap='tab20b', xlim=a_limit, ylim=b_limit)\n",
    "    centroid_list.plot.scatter(x=columns[0], y=columns[1], xlim=a_limit, ylim=b_limit, s=50, c='r', ax=object_plot)\n",
    "else:\n",
    "    print(\"Plot not available - Objects have more than 2 attributes\")"
   ]
  },
  {
   "cell_type": "code",
   "execution_count": 29,
   "id": "d5207338",
   "metadata": {},
   "outputs": [
    {
     "data": {
      "image/png": "[encoded data removed]",
      "text/plain": [
       "<Figure size 432x288 with 2 Axes>"
      ]
     },
     "metadata": {
      "needs_background": "light"
     },
     "output_type": "display_data"
    },
    {
     "data": {
      "image/png": "[encoded data removed]",
      "text/plain": [
       "<Figure size 432x288 with 2 Axes>"
      ]
     },
     "metadata": {
      "needs_background": "light"
     },
     "output_type": "display_data"
    },
    {
     "data": {
      "image/png": "[encoded data removed]",
      "text/plain": [
       "<Figure size 432x288 with 2 Axes>"
      ]
     },
     "metadata": {
      "needs_background": "light"
     },
     "output_type": "display_data"
    },
    {
     "data": {
      "image/png": "[encoded data removed]",
      "text/plain": [
       "<Figure size 432x288 with 2 Axes>"
      ]
     },
     "metadata": {
      "needs_background": "light"
     },
     "output_type": "display_data"
    },
    {
     "data": {
      "image/png": "[encoded data removed]",
      "text/plain": [
       "<Figure size 432x288 with 2 Axes>"
      ]
     },
     "metadata": {
      "needs_background": "light"
     },
     "output_type": "display_data"
    },
    {
     "data": {
      "image/png": "[encoded data removed]",
      "text/plain": [
       "<Figure size 432x288 with 2 Axes>"
      ]
     },
     "metadata": {
      "needs_background": "light"
     },
     "output_type": "display_data"
    }
   ],
   "source": [
    "# updating centroid positions until no object changes\n",
    "changes = -1\n",
    "i = 0\n",
    "while changes != 0 and i < iteration_limit:\n",
    "    centroid_list = UpdateCentroidPosition(df, centroid_list)\n",
    "    df, changes = MatchObjectsWithCentroids(df, centroid_list)\n",
    "    if len(columns) == 2:\n",
    "        object_plot = df.plot.scatter(x=columns[0], y=columns[1], c=\"centroid\", colormap='tab20b', xlim=a_limit, ylim=b_limit)\n",
    "        centroid_list.plot.scatter(x=columns[0], y=columns[1], xlim=a_limit, ylim=b_limit, s=50, c='r', ax=object_plot)\n",
    "    i = i + 1"
   ]
  },
  {
   "cell_type": "code",
   "execution_count": 30,
   "id": "971defe0",
   "metadata": {},
   "outputs": [
    {
     "data": {
      "text/html": [
       "<div>\n",
       "<style scoped>\n",
       "    .dataframe tbody tr th:only-of-type {\n",
       "        vertical-align: middle;\n",
       "    }\n",
       "\n",
       "    .dataframe tbody tr th {\n",
       "        vertical-align: top;\n",
       "    }\n",
       "\n",
       "    .dataframe thead th {\n",
       "        text-align: right;\n",
       "    }\n",
       "</style>\n",
       "<table border=\"1\" class=\"dataframe\">\n",
       "  <thead>\n",
       "    <tr style=\"text-align: right;\">\n",
       "      <th></th>\n",
       "      <th>Assets</th>\n",
       "      <th>Income</th>\n",
       "      <th>centroid</th>\n",
       "    </tr>\n",
       "  </thead>\n",
       "  <tbody>\n",
       "    <tr>\n",
       "      <th>0</th>\n",
       "      <td>2.8</td>\n",
       "      <td>3.2</td>\n",
       "      <td>2</td>\n",
       "    </tr>\n",
       "    <tr>\n",
       "      <th>1</th>\n",
       "      <td>3.4</td>\n",
       "      <td>6.4</td>\n",
       "      <td>0</td>\n",
       "    </tr>\n",
       "    <tr>\n",
       "      <th>2</th>\n",
       "      <td>2.2</td>\n",
       "      <td>3.3</td>\n",
       "      <td>2</td>\n",
       "    </tr>\n",
       "    <tr>\n",
       "      <th>3</th>\n",
       "      <td>3.2</td>\n",
       "      <td>3.0</td>\n",
       "      <td>2</td>\n",
       "    </tr>\n",
       "    <tr>\n",
       "      <th>4</th>\n",
       "      <td>3.0</td>\n",
       "      <td>3.2</td>\n",
       "      <td>2</td>\n",
       "    </tr>\n",
       "    <tr>\n",
       "      <th>...</th>\n",
       "      <td>...</td>\n",
       "      <td>...</td>\n",
       "      <td>...</td>\n",
       "    </tr>\n",
       "    <tr>\n",
       "      <th>127</th>\n",
       "      <td>2.8</td>\n",
       "      <td>2.7</td>\n",
       "      <td>2</td>\n",
       "    </tr>\n",
       "    <tr>\n",
       "      <th>128</th>\n",
       "      <td>3.0</td>\n",
       "      <td>2.8</td>\n",
       "      <td>2</td>\n",
       "    </tr>\n",
       "    <tr>\n",
       "      <th>129</th>\n",
       "      <td>3.3</td>\n",
       "      <td>1.8</td>\n",
       "      <td>1</td>\n",
       "    </tr>\n",
       "    <tr>\n",
       "      <th>130</th>\n",
       "      <td>3.7</td>\n",
       "      <td>6.3</td>\n",
       "      <td>0</td>\n",
       "    </tr>\n",
       "    <tr>\n",
       "      <th>131</th>\n",
       "      <td>2.3</td>\n",
       "      <td>4.5</td>\n",
       "      <td>2</td>\n",
       "    </tr>\n",
       "  </tbody>\n",
       "</table>\n",
       "<p>132 rows × 3 columns</p>\n",
       "</div>"
      ],
      "text/plain": [
       "     Assets  Income  centroid\n",
       "0       2.8     3.2         2\n",
       "1       3.4     6.4         0\n",
       "2       2.2     3.3         2\n",
       "3       3.2     3.0         2\n",
       "4       3.0     3.2         2\n",
       "..      ...     ...       ...\n",
       "127     2.8     2.7         2\n",
       "128     3.0     2.8         2\n",
       "129     3.3     1.8         1\n",
       "130     3.7     6.3         0\n",
       "131     2.3     4.5         2\n",
       "\n",
       "[132 rows x 3 columns]"
      ]
     },
     "execution_count": 30,
     "metadata": {},
     "output_type": "execute_result"
    }
   ],
   "source": [
    "# file with all centroids\n",
    "df.to_csv('out.csv',index=False)\n",
    "df"
   ]
  },
  {
   "cell_type": "code",
   "execution_count": 31,
   "id": "4dd50b57",
   "metadata": {},
   "outputs": [
    {
     "data": {
      "text/html": [
       "<div>\n",
       "<style scoped>\n",
       "    .dataframe tbody tr th:only-of-type {\n",
       "        vertical-align: middle;\n",
       "    }\n",
       "\n",
       "    .dataframe tbody tr th {\n",
       "        vertical-align: top;\n",
       "    }\n",
       "\n",
       "    .dataframe thead th {\n",
       "        text-align: right;\n",
       "    }\n",
       "</style>\n",
       "<table border=\"1\" class=\"dataframe\">\n",
       "  <thead>\n",
       "    <tr style=\"text-align: right;\">\n",
       "      <th></th>\n",
       "      <th>Assets</th>\n",
       "      <th>Income</th>\n",
       "      <th>centroid</th>\n",
       "      <th>a(i)</th>\n",
       "      <th>b(i)</th>\n",
       "      <th>s(i)</th>\n",
       "    </tr>\n",
       "  </thead>\n",
       "  <tbody>\n",
       "    <tr>\n",
       "      <th>0</th>\n",
       "      <td>2.8</td>\n",
       "      <td>3.2</td>\n",
       "      <td>2</td>\n",
       "      <td>0.531229</td>\n",
       "      <td>1.982260</td>\n",
       "      <td>0.732009</td>\n",
       "    </tr>\n",
       "    <tr>\n",
       "      <th>1</th>\n",
       "      <td>3.4</td>\n",
       "      <td>6.4</td>\n",
       "      <td>0</td>\n",
       "      <td>0.383575</td>\n",
       "      <td>3.905626</td>\n",
       "      <td>0.901789</td>\n",
       "    </tr>\n",
       "    <tr>\n",
       "      <th>2</th>\n",
       "      <td>2.2</td>\n",
       "      <td>3.3</td>\n",
       "      <td>2</td>\n",
       "      <td>0.800005</td>\n",
       "      <td>2.113767</td>\n",
       "      <td>0.621526</td>\n",
       "    </tr>\n",
       "    <tr>\n",
       "      <th>3</th>\n",
       "      <td>3.2</td>\n",
       "      <td>3.0</td>\n",
       "      <td>2</td>\n",
       "      <td>0.764355</td>\n",
       "      <td>1.745333</td>\n",
       "      <td>0.562058</td>\n",
       "    </tr>\n",
       "    <tr>\n",
       "      <th>4</th>\n",
       "      <td>3.0</td>\n",
       "      <td>3.2</td>\n",
       "      <td>2</td>\n",
       "      <td>0.625393</td>\n",
       "      <td>1.920440</td>\n",
       "      <td>0.674349</td>\n",
       "    </tr>\n",
       "    <tr>\n",
       "      <th>...</th>\n",
       "      <td>...</td>\n",
       "      <td>...</td>\n",
       "      <td>...</td>\n",
       "      <td>...</td>\n",
       "      <td>...</td>\n",
       "      <td>...</td>\n",
       "    </tr>\n",
       "    <tr>\n",
       "      <th>127</th>\n",
       "      <td>2.8</td>\n",
       "      <td>2.7</td>\n",
       "      <td>2</td>\n",
       "      <td>2.564365</td>\n",
       "      <td>4.325592</td>\n",
       "      <td>0.407165</td>\n",
       "    </tr>\n",
       "    <tr>\n",
       "      <th>128</th>\n",
       "      <td>3.0</td>\n",
       "      <td>2.8</td>\n",
       "      <td>2</td>\n",
       "      <td>2.604558</td>\n",
       "      <td>4.344837</td>\n",
       "      <td>0.400539</td>\n",
       "    </tr>\n",
       "    <tr>\n",
       "      <th>129</th>\n",
       "      <td>3.3</td>\n",
       "      <td>1.8</td>\n",
       "      <td>1</td>\n",
       "      <td>2.551261</td>\n",
       "      <td>4.842220</td>\n",
       "      <td>0.473122</td>\n",
       "    </tr>\n",
       "    <tr>\n",
       "      <th>130</th>\n",
       "      <td>3.7</td>\n",
       "      <td>6.3</td>\n",
       "      <td>0</td>\n",
       "      <td>2.340074</td>\n",
       "      <td>5.697539</td>\n",
       "      <td>0.589283</td>\n",
       "    </tr>\n",
       "    <tr>\n",
       "      <th>131</th>\n",
       "      <td>2.3</td>\n",
       "      <td>4.5</td>\n",
       "      <td>2</td>\n",
       "      <td>2.830873</td>\n",
       "      <td>5.190181</td>\n",
       "      <td>0.454572</td>\n",
       "    </tr>\n",
       "  </tbody>\n",
       "</table>\n",
       "<p>132 rows × 6 columns</p>\n",
       "</div>"
      ],
      "text/plain": [
       "     Assets  Income  centroid      a(i)      b(i)      s(i)\n",
       "0       2.8     3.2         2  0.531229  1.982260  0.732009\n",
       "1       3.4     6.4         0  0.383575  3.905626  0.901789\n",
       "2       2.2     3.3         2  0.800005  2.113767  0.621526\n",
       "3       3.2     3.0         2  0.764355  1.745333  0.562058\n",
       "4       3.0     3.2         2  0.625393  1.920440  0.674349\n",
       "..      ...     ...       ...       ...       ...       ...\n",
       "127     2.8     2.7         2  2.564365  4.325592  0.407165\n",
       "128     3.0     2.8         2  2.604558  4.344837  0.400539\n",
       "129     3.3     1.8         1  2.551261  4.842220  0.473122\n",
       "130     3.7     6.3         0  2.340074  5.697539  0.589283\n",
       "131     2.3     4.5         2  2.830873  5.190181  0.454572\n",
       "\n",
       "[132 rows x 6 columns]"
      ]
     },
     "execution_count": 31,
     "metadata": {},
     "output_type": "execute_result"
    }
   ],
   "source": [
    "# dataframe with silhouettes\n",
    "df_silhouette = GenerateSilhouette(df)\n",
    "df_silhouette"
   ]
  },
  {
   "cell_type": "code",
   "execution_count": 32,
   "id": "7cf01910",
   "metadata": {},
   "outputs": [
    {
     "data": {
      "text/html": [
       "<div>\n",
       "<style scoped>\n",
       "    .dataframe tbody tr th:only-of-type {\n",
       "        vertical-align: middle;\n",
       "    }\n",
       "\n",
       "    .dataframe tbody tr th {\n",
       "        vertical-align: top;\n",
       "    }\n",
       "\n",
       "    .dataframe thead th {\n",
       "        text-align: right;\n",
       "    }\n",
       "</style>\n",
       "<table border=\"1\" class=\"dataframe\">\n",
       "  <thead>\n",
       "    <tr style=\"text-align: right;\">\n",
       "      <th></th>\n",
       "      <th>Assets</th>\n",
       "      <th>Income</th>\n",
       "      <th>a(i)</th>\n",
       "      <th>b(i)</th>\n",
       "      <th>s(i)</th>\n",
       "    </tr>\n",
       "    <tr>\n",
       "      <th>centroid</th>\n",
       "      <th></th>\n",
       "      <th></th>\n",
       "      <th></th>\n",
       "      <th></th>\n",
       "      <th></th>\n",
       "    </tr>\n",
       "  </thead>\n",
       "  <tbody>\n",
       "    <tr>\n",
       "      <th>0</th>\n",
       "      <td>3.431579</td>\n",
       "      <td>6.331579</td>\n",
       "      <td>1.308453</td>\n",
       "      <td>4.683552</td>\n",
       "      <td>0.729628</td>\n",
       "    </tr>\n",
       "    <tr>\n",
       "      <th>1</th>\n",
       "      <td>3.081818</td>\n",
       "      <td>1.984848</td>\n",
       "      <td>1.504845</td>\n",
       "      <td>3.049103</td>\n",
       "      <td>0.519160</td>\n",
       "    </tr>\n",
       "    <tr>\n",
       "      <th>2</th>\n",
       "      <td>2.754098</td>\n",
       "      <td>3.422951</td>\n",
       "      <td>1.518209</td>\n",
       "      <td>3.265311</td>\n",
       "      <td>0.548796</td>\n",
       "    </tr>\n",
       "  </tbody>\n",
       "</table>\n",
       "</div>"
      ],
      "text/plain": [
       "            Assets    Income      a(i)      b(i)      s(i)\n",
       "centroid                                                  \n",
       "0         3.431579  6.331579  1.308453  4.683552  0.729628\n",
       "1         3.081818  1.984848  1.504845  3.049103  0.519160\n",
       "2         2.754098  3.422951  1.518209  3.265311  0.548796"
      ]
     },
     "execution_count": 32,
     "metadata": {},
     "output_type": "execute_result"
    }
   ],
   "source": [
    "# silhouette for all centroids\n",
    "df_silhouette.groupby('centroid').mean()"
   ]
  },
  {
   "cell_type": "code",
   "execution_count": 33,
   "id": "0f807dd4",
   "metadata": {},
   "outputs": [
    {
     "data": {
      "text/plain": [
       "0.5934447405499073"
      ]
     },
     "execution_count": 33,
     "metadata": {},
     "output_type": "execute_result"
    }
   ],
   "source": [
    "# mean silhouette\n",
    "df_silhouette['s(i)'].mean()"
   ]
  }
 ],
 "metadata": {
  "kernelspec": {
   "display_name": "Python 3 (ipykernel)",
   "language": "python",
   "name": "python3"
  },
  "language_info": {
   "codemirror_mode": {
    "name": "ipython",
    "version": 3
   },
   "file_extension": ".py",
   "mimetype": "text/x-python",
   "name": "python",
   "nbconvert_exporter": "python",
   "pygments_lexer": "ipython3",
   "version": "3.9.7"
  }
 },
 "nbformat": 4,
 "nbformat_minor": 5
}
